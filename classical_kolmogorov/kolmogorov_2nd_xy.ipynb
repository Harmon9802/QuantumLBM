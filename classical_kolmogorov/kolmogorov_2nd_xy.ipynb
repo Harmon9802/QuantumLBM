{
 "cells": [
  {
   "cell_type": "code",
   "execution_count": 1,
   "metadata": {},
   "outputs": [],
   "source": [
    "import jax.numpy as jnp # transfer the backend from numpy to jax for GPU acceleration\n",
    "import matplotlib.pyplot as plt"
   ]
  },
  {
   "cell_type": "code",
   "execution_count": 2,
   "metadata": {},
   "outputs": [],
   "source": [
    "# LBM D2Q9 lattice scheme configuration\n",
    "##############\n",
    "#  6   2   5\n",
    "#   \\  |  /\n",
    "# 3 —— 0 —— 1\n",
    "#   /  |  \\\n",
    "#  7   4   8\n",
    "##############\n",
    "\n",
    "Nq = 9  # Number of lattice directions\n",
    "Nx = 32  # Number of grid points in x-direction\n",
    "Ny = 32  # Number of grid points in y-direction\n",
    "Nt = 100  # Number of timesteps\n",
    "\n",
    "# Lattice vector definition\n",
    "ei = jnp.array([0, 1, 2, 3, 4, 5, 6, 7, 8])\n",
    "ci = jnp.array([[0, 1, 0, -1, 0, 1, -1, -1, 1], \n",
    "               [0, 0, 1, 0, -1, 1, 1, -1, -1]])\n",
    "\n",
    "# Lattice weights definition\n",
    "omega1, omega2, omega3 = 1.0, 1.5, 1.9\n",
    "weights = jnp.array([4/9, 1/9, 1/9, 1/9, 1/9, 1/36, 1/36, 1/36, 1/36])"
   ]
  },
  {
   "cell_type": "code",
   "execution_count": 3,
   "metadata": {},
   "outputs": [],
   "source": [
    "# Meshgrid definition in 2D XY domain\n",
    "t = jnp.arange(Nt)\n",
    "xm = jnp.arange(Nx)\n",
    "ym = jnp.arange(Ny)\n",
    "X, Y = jnp.meshgrid(xm, ym, indexing='ij')"
   ]
  },
  {
   "cell_type": "code",
   "execution_count": 4,
   "metadata": {},
   "outputs": [],
   "source": [
    "# fi field initialization\n",
    "A_x, A_y = 0.3, 0.2\n",
    "k_x, k_y = 1, 4\n",
    "fi = jnp.zeros((Nx, Ny, Nq))\n",
    "\n",
    "for i, wi in zip(ei, weights):\n",
    "    fi = fi.at[X, Y, i].set(wi * (1 + A_x * jnp.cos(2 * jnp.pi * k_x * Y / Ny) * ci[0][i] + A_y * jnp.cos(2 * jnp.pi * k_y * X / Nx) * ci[1][i]))\n",
    "\n",
    "fi1, fi2, fi3 = fi, fi, fi\n",
    "g_jk = jnp.tensordot(fi, fi, axes=0)\n",
    "g_jk1, g_jk2, g_jk3 = g_jk, g_jk, g_jk"
   ]
  },
  {
   "cell_type": "code",
   "execution_count": 5,
   "metadata": {},
   "outputs": [],
   "source": [
    "def streaming(fi, g_jk):\n",
    "    for i in ei:\n",
    "        # Propagate fi value in each corresponding direction using jnp.roll\n",
    "        fi = fi.at[:, :, i].set(jnp.roll(fi[:, :, i], ci[0][i], axis=0)) # roll along x\n",
    "        fi = fi.at[:, :, i].set(jnp.roll(fi[:, :, i], ci[1][i], axis=1)) # roll along y\n",
    "\n",
    "    for j in ei:\n",
    "        g_jk = g_jk.at[:, :, j, :, :, :].set(jnp.roll(g_jk[:, :, j, :, :, :], ci[0][j], axis=0))\n",
    "        g_jk = g_jk.at[:, :, j, :, :, :].set(jnp.roll(g_jk[:, :, j, :, :, :], ci[1][j], axis=1))\n",
    "\n",
    "    for k in ei:\n",
    "        g_jk = g_jk.at[:, :, :, :, :, k].set(jnp.roll(g_jk[:, :, :, :, :, k], ci[0][k], axis=3))\n",
    "        g_jk = g_jk.at[:, :, :, :, :, k].set(jnp.roll(g_jk[:, :, :, :, :, k], ci[1][k], axis=4))\n",
    "\n",
    "    return fi, g_jk"
   ]
  },
  {
   "cell_type": "code",
   "execution_count": 6,
   "metadata": {},
   "outputs": [],
   "source": [
    "def get_matrix(omega):\n",
    "    # Calculate matrix A\n",
    "    ci_cj = jnp.tensordot(ci[0], ci[0], axes=0) + jnp.tensordot(ci[1], ci[1], axes=0) # ci is equivalent to cj\n",
    "    L_ij = jnp.transpose(weights * (1 + 3 * ci_cj))\n",
    "    A_ij = (1 - omega) * jnp.eye(Nq) + omega * L_ij\n",
    "\n",
    "    # Calculate matrix B\n",
    "    Q_ijk = jnp.zeros((Nq, Nq, Nq))\n",
    "    for i in range(Nq):\n",
    "        for j in range(Nq):\n",
    "            for k in range(Nq):\n",
    "                ci_cj = ci[0][i] * ci[0][j] + ci[1][i] * ci[1][j]\n",
    "                ci_ck = ci[0][i] * ci[0][k] + ci[1][i] * ci[1][k]\n",
    "                cj_ck = ci[0][j] * ci[0][k] + ci[1][j] * ci[1][k]\n",
    "                Q_ijk = Q_ijk.at[i, j, k].set(9 * weights[i] * (ci_cj * ci_ck - cj_ck / 3))\n",
    "    B_ijk = omega * Q_ijk\n",
    "    \n",
    "    return A_ij, B_ijk"
   ]
  },
  {
   "cell_type": "code",
   "execution_count": 7,
   "metadata": {},
   "outputs": [],
   "source": [
    "def collision_BGK_2nd_carleman(fi_pre, A_ij, g_jk, B_ijk):\n",
    "    f_j = jnp.squeeze(fi_pre)\n",
    "    A_i = jnp.einsum('ij,NMj->NMi', A_ij, f_j) # N stands for x direction and M for y\n",
    "    \n",
    "    g_jk_dia = g_jk[X, Y, :, X, Y, :]\n",
    "    \n",
    "    B_i = jnp.einsum('ijk,NMjk->NMi', B_ijk, g_jk_dia)\n",
    "    fi_collisioned = A_i + B_i\n",
    "    \n",
    "    AA = jnp.tensordot(A_ij, A_ij, axes=0)\n",
    "    g_jk_collisioned = jnp.einsum('ikjl,NMkXYl->NMiXYj', AA, g_jk)\n",
    "    \n",
    "    return fi_collisioned, g_jk_collisioned"
   ]
  },
  {
   "cell_type": "code",
   "execution_count": 8,
   "metadata": {},
   "outputs": [],
   "source": [
    "def get_macro_quantities(fi):\n",
    "    rho = jnp.sum(fi, axis=2)  # Density\n",
    "    ux = jnp.sum(fi * ci[0], 2) / rho\n",
    "    uy = jnp.sum(fi * ci[1], 2) / rho\n",
    "    \n",
    "    return rho, ux, uy"
   ]
  },
  {
   "cell_type": "code",
   "execution_count": 11,
   "metadata": {},
   "outputs": [
    {
     "data": {
      "image/png": "[encoded data removed]",
      "text/plain": [
       "<Figure size 500x300 with 2 Axes>"
      ]
     },
     "metadata": {},
     "output_type": "display_data"
    }
   ],
   "source": [
    "_, ux0, uy0 = get_macro_quantities(fi)\n",
    "u0 = jnp.sqrt(ux0**2 + uy0**2)\n",
    "\n",
    "plt.figure(figsize=(5, 3))\n",
    "contour = plt.contourf(X, Y, u0, levels=100, cmap='viridis')\n",
    "plt.colorbar(contour)\n",
    "plt.title(\"$u_0$\")\n",
    "plt.xlabel(\"x\")\n",
    "plt.ylabel(\"y\")\n",
    "plt.show()"
   ]
  },
  {
   "cell_type": "code",
   "execution_count": 10,
   "metadata": {},
   "outputs": [
    {
     "ename": "KeyboardInterrupt",
     "evalue": "",
     "output_type": "error",
     "traceback": [
      "\u001b[1;31m---------------------------------------------------------------------------\u001b[0m",
      "\u001b[1;31mKeyboardInterrupt\u001b[0m                         Traceback (most recent call last)",
      "\u001b[1;32mf:\\Master in TUM Aerospace\\24ws\\MA\\QuantumLBM\\classical_kolmogorov\\kolmogorov_2nd_xy_jax.ipynb Cell 10\u001b[0m line \u001b[0;36m3\n\u001b[0;32m      <a href='vscode-notebook-cell:/f%3A/Master%20in%20TUM%20Aerospace/24ws/MA/QuantumLBM/classical_kolmogorov/kolmogorov_2nd_xy_jax.ipynb#X12sZmlsZQ%3D%3D?line=0'>1</a>\u001b[0m step \u001b[39m=\u001b[39m \u001b[39m0\u001b[39m\n\u001b[0;32m      <a href='vscode-notebook-cell:/f%3A/Master%20in%20TUM%20Aerospace/24ws/MA/QuantumLBM/classical_kolmogorov/kolmogorov_2nd_xy_jax.ipynb#X12sZmlsZQ%3D%3D?line=1'>2</a>\u001b[0m fi1s, u1s \u001b[39m=\u001b[39m [], []\n\u001b[1;32m----> <a href='vscode-notebook-cell:/f%3A/Master%20in%20TUM%20Aerospace/24ws/MA/QuantumLBM/classical_kolmogorov/kolmogorov_2nd_xy_jax.ipynb#X12sZmlsZQ%3D%3D?line=2'>3</a>\u001b[0m A_ij1, B_ijk1 \u001b[39m=\u001b[39m get_matrix(omega1)\n\u001b[0;32m      <a href='vscode-notebook-cell:/f%3A/Master%20in%20TUM%20Aerospace/24ws/MA/QuantumLBM/classical_kolmogorov/kolmogorov_2nd_xy_jax.ipynb#X12sZmlsZQ%3D%3D?line=3'>4</a>\u001b[0m \u001b[39mfor\u001b[39;00m i \u001b[39min\u001b[39;00m \u001b[39mrange\u001b[39m(Nt):\n\u001b[0;32m      <a href='vscode-notebook-cell:/f%3A/Master%20in%20TUM%20Aerospace/24ws/MA/QuantumLBM/classical_kolmogorov/kolmogorov_2nd_xy_jax.ipynb#X12sZmlsZQ%3D%3D?line=4'>5</a>\u001b[0m     fi1s\u001b[39m.\u001b[39mappend(fi1)\n",
      "\u001b[1;32mf:\\Master in TUM Aerospace\\24ws\\MA\\QuantumLBM\\classical_kolmogorov\\kolmogorov_2nd_xy_jax.ipynb Cell 10\u001b[0m line \u001b[0;36m1\n\u001b[0;32m     <a href='vscode-notebook-cell:/f%3A/Master%20in%20TUM%20Aerospace/24ws/MA/QuantumLBM/classical_kolmogorov/kolmogorov_2nd_xy_jax.ipynb#X12sZmlsZQ%3D%3D?line=12'>13</a>\u001b[0m             ci_ck \u001b[39m=\u001b[39m ci[\u001b[39m0\u001b[39m][i] \u001b[39m*\u001b[39m ci[\u001b[39m0\u001b[39m][k] \u001b[39m+\u001b[39m ci[\u001b[39m1\u001b[39m][i] \u001b[39m*\u001b[39m ci[\u001b[39m1\u001b[39m][k]\n\u001b[0;32m     <a href='vscode-notebook-cell:/f%3A/Master%20in%20TUM%20Aerospace/24ws/MA/QuantumLBM/classical_kolmogorov/kolmogorov_2nd_xy_jax.ipynb#X12sZmlsZQ%3D%3D?line=13'>14</a>\u001b[0m             cj_ck \u001b[39m=\u001b[39m ci[\u001b[39m0\u001b[39m][j] \u001b[39m*\u001b[39m ci[\u001b[39m0\u001b[39m][k] \u001b[39m+\u001b[39m ci[\u001b[39m1\u001b[39m][j] \u001b[39m*\u001b[39m ci[\u001b[39m1\u001b[39m][k]\n\u001b[1;32m---> <a href='vscode-notebook-cell:/f%3A/Master%20in%20TUM%20Aerospace/24ws/MA/QuantumLBM/classical_kolmogorov/kolmogorov_2nd_xy_jax.ipynb#X12sZmlsZQ%3D%3D?line=14'>15</a>\u001b[0m             Q_ijk \u001b[39m=\u001b[39m Q_ijk\u001b[39m.\u001b[39;49mat[i, j, k]\u001b[39m.\u001b[39;49mset(\u001b[39m9\u001b[39;49m \u001b[39m*\u001b[39;49m weights[i] \u001b[39m*\u001b[39;49m (ci_cj \u001b[39m*\u001b[39;49m ci_ck \u001b[39m-\u001b[39;49m cj_ck \u001b[39m/\u001b[39;49m \u001b[39m3\u001b[39;49m))\n\u001b[0;32m     <a href='vscode-notebook-cell:/f%3A/Master%20in%20TUM%20Aerospace/24ws/MA/QuantumLBM/classical_kolmogorov/kolmogorov_2nd_xy_jax.ipynb#X12sZmlsZQ%3D%3D?line=15'>16</a>\u001b[0m B_ijk \u001b[39m=\u001b[39m omega \u001b[39m*\u001b[39m Q_ijk\n\u001b[0;32m     <a href='vscode-notebook-cell:/f%3A/Master%20in%20TUM%20Aerospace/24ws/MA/QuantumLBM/classical_kolmogorov/kolmogorov_2nd_xy_jax.ipynb#X12sZmlsZQ%3D%3D?line=17'>18</a>\u001b[0m \u001b[39mreturn\u001b[39;00m A_ij, B_ijk\n",
      "File \u001b[1;32me:\\New_Software_Install\\Lib\\site-packages\\jax\\_src\\numpy\\array_methods.py:788\u001b[0m, in \u001b[0;36m_IndexUpdateRef.set\u001b[1;34m(self, values, indices_are_sorted, unique_indices, mode)\u001b[0m\n\u001b[0;32m    779\u001b[0m \u001b[39mdef\u001b[39;00m \u001b[39mset\u001b[39m(\u001b[39mself\u001b[39m, values, \u001b[39m*\u001b[39m, indices_are_sorted\u001b[39m=\u001b[39m\u001b[39mFalse\u001b[39;00m, unique_indices\u001b[39m=\u001b[39m\u001b[39mFalse\u001b[39;00m,\n\u001b[0;32m    780\u001b[0m         mode\u001b[39m=\u001b[39m\u001b[39mNone\u001b[39;00m):\n\u001b[0;32m    781\u001b[0m \u001b[39m  \u001b[39m\u001b[39m\"\"\"Pure equivalent of ``x[idx] = y``.\u001b[39;00m\n\u001b[0;32m    782\u001b[0m \n\u001b[0;32m    783\u001b[0m \u001b[39m  Returns the value of ``x`` that would result from the NumPy-style\u001b[39;00m\n\u001b[1;32m   (...)\u001b[0m\n\u001b[0;32m    786\u001b[0m \u001b[39m  See :mod:`jax.ops` for details.\u001b[39;00m\n\u001b[0;32m    787\u001b[0m \u001b[39m  \"\"\"\u001b[39;00m\n\u001b[1;32m--> 788\u001b[0m   \u001b[39mreturn\u001b[39;00m scatter\u001b[39m.\u001b[39;49m_scatter_update(\u001b[39mself\u001b[39;49m\u001b[39m.\u001b[39;49marray, \u001b[39mself\u001b[39;49m\u001b[39m.\u001b[39;49mindex, values, lax\u001b[39m.\u001b[39;49mscatter,\n\u001b[0;32m    789\u001b[0m                                  indices_are_sorted\u001b[39m=\u001b[39;49mindices_are_sorted,\n\u001b[0;32m    790\u001b[0m                                  unique_indices\u001b[39m=\u001b[39;49munique_indices, mode\u001b[39m=\u001b[39;49mmode)\n",
      "File \u001b[1;32me:\\New_Software_Install\\Lib\\site-packages\\jax\\_src\\ops\\scatter.py:76\u001b[0m, in \u001b[0;36m_scatter_update\u001b[1;34m(x, idx, y, scatter_op, indices_are_sorted, unique_indices, mode, normalize_indices)\u001b[0m\n\u001b[0;32m     73\u001b[0m \u001b[39m# XLA gathers and scatters are very similar in structure; the scatter logic\u001b[39;00m\n\u001b[0;32m     74\u001b[0m \u001b[39m# is more or less a transpose of the gather equivalent.\u001b[39;00m\n\u001b[0;32m     75\u001b[0m treedef, static_idx, dynamic_idx \u001b[39m=\u001b[39m jnp\u001b[39m.\u001b[39m_split_index_for_jit(idx, x\u001b[39m.\u001b[39mshape)\n\u001b[1;32m---> 76\u001b[0m \u001b[39mreturn\u001b[39;00m _scatter_impl(x, y, scatter_op, treedef, static_idx, dynamic_idx,\n\u001b[0;32m     77\u001b[0m                      indices_are_sorted, unique_indices, mode,\n\u001b[0;32m     78\u001b[0m                      normalize_indices)\n",
      "File \u001b[1;32me:\\New_Software_Install\\Lib\\site-packages\\jax\\_src\\ops\\scatter.py:100\u001b[0m, in \u001b[0;36m_scatter_impl\u001b[1;34m(x, y, scatter_op, treedef, static_idx, dynamic_idx, indices_are_sorted, unique_indices, mode, normalize_indices)\u001b[0m\n\u001b[0;32m     92\u001b[0m   warnings\u001b[39m.\u001b[39mwarn(\n\u001b[0;32m     93\u001b[0m     \u001b[39m\"\u001b[39m\u001b[39mscatter inputs have incompatible types: cannot safely cast value \u001b[39m\u001b[39m\"\u001b[39m\n\u001b[0;32m     94\u001b[0m     \u001b[39mf\u001b[39m\u001b[39m\"\u001b[39m\u001b[39mfrom dtype=\u001b[39m\u001b[39m{\u001b[39;00mlax\u001b[39m.\u001b[39mdtype(y)\u001b[39m}\u001b[39;00m\u001b[39m to dtype=\u001b[39m\u001b[39m{\u001b[39;00mlax\u001b[39m.\u001b[39mdtype(x)\u001b[39m}\u001b[39;00m\u001b[39m with \u001b[39m\u001b[39m\"\u001b[39m\n\u001b[0;32m     95\u001b[0m     \u001b[39mf\u001b[39m\u001b[39m\"\u001b[39m\u001b[39mjax_numpy_dtype_promotion=\u001b[39m\u001b[39m{\u001b[39;00mconfig\u001b[39m.\u001b[39mnumpy_dtype_promotion\u001b[39m.\u001b[39mvalue\u001b[39m!r}\u001b[39;00m\u001b[39m. \u001b[39m\u001b[39m\"\u001b[39m\n\u001b[0;32m     96\u001b[0m     \u001b[39m\"\u001b[39m\u001b[39mIn future JAX releases this will result in an error.\u001b[39m\u001b[39m\"\u001b[39m,\n\u001b[0;32m     97\u001b[0m     \u001b[39mFutureWarning\u001b[39;00m)\n\u001b[0;32m     99\u001b[0m idx \u001b[39m=\u001b[39m jnp\u001b[39m.\u001b[39m_merge_static_and_dynamic_indices(treedef, static_idx, dynamic_idx)\n\u001b[1;32m--> 100\u001b[0m indexer \u001b[39m=\u001b[39m jnp\u001b[39m.\u001b[39;49m_index_to_gather(jnp\u001b[39m.\u001b[39;49mshape(x), idx,\n\u001b[0;32m    101\u001b[0m                                normalize_indices\u001b[39m=\u001b[39;49mnormalize_indices)\n\u001b[0;32m    103\u001b[0m \u001b[39m# Avoid calling scatter if the slice shape is empty, both as a fast path and\u001b[39;00m\n\u001b[0;32m    104\u001b[0m \u001b[39m# to handle cases like zeros(0)[array([], int32)].\u001b[39;00m\n\u001b[0;32m    105\u001b[0m \u001b[39mif\u001b[39;00m core\u001b[39m.\u001b[39mis_empty_shape(indexer\u001b[39m.\u001b[39mslice_shape):\n",
      "File \u001b[1;32me:\\New_Software_Install\\Lib\\site-packages\\jax\\_src\\numpy\\lax_numpy.py:11640\u001b[0m, in \u001b[0;36m_index_to_gather\u001b[1;34m(x_shape, idx, normalize_indices)\u001b[0m\n\u001b[0;32m  11638\u001b[0m   \u001b[39mraise\u001b[39;00m \u001b[39mIndexError\u001b[39;00m(\u001b[39mf\u001b[39m\u001b[39m\"\u001b[39m\u001b[39mindex is out of bounds for axis \u001b[39m\u001b[39m{\u001b[39;00mx_axis\u001b[39m}\u001b[39;00m\u001b[39m with size 0\u001b[39m\u001b[39m\"\u001b[39m)\n\u001b[0;32m  11639\u001b[0m i \u001b[39m=\u001b[39m _normalize_index(i, x_shape[x_axis]) \u001b[39mif\u001b[39;00m normalize_indices \u001b[39melse\u001b[39;00m i\n\u001b[1;32m> 11640\u001b[0m i_converted \u001b[39m=\u001b[39m lax\u001b[39m.\u001b[39;49mconvert_element_type(i, index_dtype)\n\u001b[0;32m  11641\u001b[0m gather_indices\u001b[39m.\u001b[39mappend((i_converted, \u001b[39mlen\u001b[39m(gather_indices_shape)))\n\u001b[0;32m  11642\u001b[0m collapsed_slice_dims\u001b[39m.\u001b[39mappend(x_axis)\n",
      "File \u001b[1;32me:\\New_Software_Install\\Lib\\site-packages\\jax\\_src\\lax\\lax.py:525\u001b[0m, in \u001b[0;36mconvert_element_type\u001b[1;34m(operand, new_dtype)\u001b[0m\n\u001b[0;32m    509\u001b[0m \u001b[39mdef\u001b[39;00m \u001b[39mconvert_element_type\u001b[39m(operand: ArrayLike,\n\u001b[0;32m    510\u001b[0m                          new_dtype: DTypeLike \u001b[39m|\u001b[39m dtypes\u001b[39m.\u001b[39mExtendedDType) \u001b[39m-\u001b[39m\u001b[39m>\u001b[39m Array:\n\u001b[0;32m    511\u001b[0m \u001b[39m  \u001b[39m\u001b[39m\"\"\"Elementwise cast.\u001b[39;00m\n\u001b[0;32m    512\u001b[0m \n\u001b[0;32m    513\u001b[0m \u001b[39m  Wraps XLA's `ConvertElementType\u001b[39;00m\n\u001b[1;32m   (...)\u001b[0m\n\u001b[0;32m    523\u001b[0m \u001b[39m    An array with the same shape as `operand`, cast elementwise to `new_dtype`.\u001b[39;00m\n\u001b[0;32m    524\u001b[0m \u001b[39m  \"\"\"\u001b[39;00m\n\u001b[1;32m--> 525\u001b[0m   \u001b[39mreturn\u001b[39;00m _convert_element_type(operand, new_dtype, weak_type\u001b[39m=\u001b[39;49m\u001b[39mFalse\u001b[39;49;00m)\n",
      "File \u001b[1;32me:\\New_Software_Install\\Lib\\site-packages\\jax\\_src\\lax\\lax.py:587\u001b[0m, in \u001b[0;36m_convert_element_type\u001b[1;34m(operand, new_dtype, weak_type, sharding)\u001b[0m\n\u001b[0;32m    585\u001b[0m   \u001b[39mreturn\u001b[39;00m operand\n\u001b[0;32m    586\u001b[0m \u001b[39melse\u001b[39;00m:\n\u001b[1;32m--> 587\u001b[0m   \u001b[39mreturn\u001b[39;00m convert_element_type_p\u001b[39m.\u001b[39;49mbind(\n\u001b[0;32m    588\u001b[0m       operand, new_dtype\u001b[39m=\u001b[39;49mnew_dtype, weak_type\u001b[39m=\u001b[39;49m\u001b[39mbool\u001b[39;49m(weak_type),\n\u001b[0;32m    589\u001b[0m       sharding\u001b[39m=\u001b[39;49msharding)\n",
      "File \u001b[1;32me:\\New_Software_Install\\Lib\\site-packages\\jax\\_src\\lax\\lax.py:2981\u001b[0m, in \u001b[0;36m_convert_element_type_bind\u001b[1;34m(operand, new_dtype, weak_type, sharding)\u001b[0m\n\u001b[0;32m   2980\u001b[0m \u001b[39mdef\u001b[39;00m \u001b[39m_convert_element_type_bind\u001b[39m(operand, \u001b[39m*\u001b[39m, new_dtype, weak_type, sharding):\n\u001b[1;32m-> 2981\u001b[0m   operand \u001b[39m=\u001b[39m core\u001b[39m.\u001b[39;49mPrimitive\u001b[39m.\u001b[39;49mbind(convert_element_type_p, operand,\n\u001b[0;32m   2982\u001b[0m                                 new_dtype\u001b[39m=\u001b[39;49mnew_dtype, weak_type\u001b[39m=\u001b[39;49mweak_type,\n\u001b[0;32m   2983\u001b[0m                                 sharding\u001b[39m=\u001b[39;49msharding)\n\u001b[0;32m   2984\u001b[0m   \u001b[39mif\u001b[39;00m sharding \u001b[39mis\u001b[39;00m \u001b[39mnot\u001b[39;00m \u001b[39mNone\u001b[39;00m:\n\u001b[0;32m   2985\u001b[0m     operand \u001b[39m=\u001b[39m pjit\u001b[39m.\u001b[39mwith_sharding_constraint(operand, sharding)\n",
      "File \u001b[1;32me:\\New_Software_Install\\Lib\\site-packages\\jax\\_src\\core.py:438\u001b[0m, in \u001b[0;36mPrimitive.bind\u001b[1;34m(self, *args, **params)\u001b[0m\n\u001b[0;32m    435\u001b[0m \u001b[39mdef\u001b[39;00m \u001b[39mbind\u001b[39m(\u001b[39mself\u001b[39m, \u001b[39m*\u001b[39margs, \u001b[39m*\u001b[39m\u001b[39m*\u001b[39mparams):\n\u001b[0;32m    436\u001b[0m   \u001b[39massert\u001b[39;00m (\u001b[39mnot\u001b[39;00m config\u001b[39m.\u001b[39menable_checks\u001b[39m.\u001b[39mvalue \u001b[39mor\u001b[39;00m\n\u001b[0;32m    437\u001b[0m           \u001b[39mall\u001b[39m(\u001b[39misinstance\u001b[39m(arg, Tracer) \u001b[39mor\u001b[39;00m valid_jaxtype(arg) \u001b[39mfor\u001b[39;00m arg \u001b[39min\u001b[39;00m args)), args\n\u001b[1;32m--> 438\u001b[0m   \u001b[39mreturn\u001b[39;00m \u001b[39mself\u001b[39;49m\u001b[39m.\u001b[39;49mbind_with_trace(find_top_trace(args), args, params)\n",
      "File \u001b[1;32me:\\New_Software_Install\\Lib\\site-packages\\jax\\_src\\core.py:442\u001b[0m, in \u001b[0;36mPrimitive.bind_with_trace\u001b[1;34m(self, trace, args, params)\u001b[0m\n\u001b[0;32m    440\u001b[0m \u001b[39mdef\u001b[39;00m \u001b[39mbind_with_trace\u001b[39m(\u001b[39mself\u001b[39m, trace, args, params):\n\u001b[0;32m    441\u001b[0m   \u001b[39mwith\u001b[39;00m pop_level(trace\u001b[39m.\u001b[39mlevel):\n\u001b[1;32m--> 442\u001b[0m     out \u001b[39m=\u001b[39m trace\u001b[39m.\u001b[39;49mprocess_primitive(\u001b[39mself\u001b[39;49m, \u001b[39mmap\u001b[39;49m(trace\u001b[39m.\u001b[39;49mfull_raise, args), params)\n\u001b[0;32m    443\u001b[0m   \u001b[39mreturn\u001b[39;00m \u001b[39mmap\u001b[39m(full_lower, out) \u001b[39mif\u001b[39;00m \u001b[39mself\u001b[39m\u001b[39m.\u001b[39mmultiple_results \u001b[39melse\u001b[39;00m full_lower(out)\n",
      "File \u001b[1;32me:\\New_Software_Install\\Lib\\site-packages\\jax\\_src\\core.py:955\u001b[0m, in \u001b[0;36mEvalTrace.process_primitive\u001b[1;34m(self, primitive, tracers, params)\u001b[0m\n\u001b[0;32m    953\u001b[0m   \u001b[39mreturn\u001b[39;00m call_impl_with_key_reuse_checks(primitive, primitive\u001b[39m.\u001b[39mimpl, \u001b[39m*\u001b[39mtracers, \u001b[39m*\u001b[39m\u001b[39m*\u001b[39mparams)\n\u001b[0;32m    954\u001b[0m \u001b[39melse\u001b[39;00m:\n\u001b[1;32m--> 955\u001b[0m   \u001b[39mreturn\u001b[39;00m primitive\u001b[39m.\u001b[39;49mimpl(\u001b[39m*\u001b[39;49mtracers, \u001b[39m*\u001b[39;49m\u001b[39m*\u001b[39;49mparams)\n",
      "File \u001b[1;32me:\\New_Software_Install\\Lib\\site-packages\\jax\\_src\\dispatch.py:91\u001b[0m, in \u001b[0;36mapply_primitive\u001b[1;34m(prim, *args, **params)\u001b[0m\n\u001b[0;32m     89\u001b[0m prev \u001b[39m=\u001b[39m lib\u001b[39m.\u001b[39mjax_jit\u001b[39m.\u001b[39mswap_thread_local_state_disable_jit(\u001b[39mFalse\u001b[39;00m)\n\u001b[0;32m     90\u001b[0m \u001b[39mtry\u001b[39;00m:\n\u001b[1;32m---> 91\u001b[0m   outs \u001b[39m=\u001b[39m fun(\u001b[39m*\u001b[39;49margs)\n\u001b[0;32m     92\u001b[0m \u001b[39mfinally\u001b[39;00m:\n\u001b[0;32m     93\u001b[0m   lib\u001b[39m.\u001b[39mjax_jit\u001b[39m.\u001b[39mswap_thread_local_state_disable_jit(prev)\n",
      "\u001b[1;31mKeyboardInterrupt\u001b[0m: "
     ]
    }
   ],
   "source": [
    "step = 0\n",
    "fi1s, u1s = [], []\n",
    "A_ij1, B_ijk1 = get_matrix(omega1)\n",
    "for i in range(Nt):\n",
    "    fi1s.append(fi1)\n",
    "    _, ux1, uy1 = get_macro_quantities(fi1)\n",
    "    ui = jnp.sqrt(ux1**2 + uy1**2)\n",
    "    u1 = ui[16, 16] / u0[16, 16]\n",
    "    u1s.append(u1)\n",
    "    \n",
    "    fi1, g_jk1 = collision_BGK_2nd_carleman(fi1, A_ij1, g_jk1, B_ijk1)\n",
    "    fi1, g_jk1 = streaming(fi1, g_jk1)\n",
    "\n",
    "    print(step)\n",
    "    step += 1\n",
    "    \n",
    "    \n",
    "fi2s, u2s = [], []\n",
    "A_ij2, B_ijk2 = get_matrix(omega2)\n",
    "for i in range(Nt):\n",
    "    fi2s.append(fi2)\n",
    "    _, ux2, uy2 = get_macro_quantities(fi2)\n",
    "    ui = jnp.sqrt(ux2**2 + uy2**2)\n",
    "    u2 = ui[16, 16] / u0[16, 16]\n",
    "    u2s.append(u2)\n",
    "    \n",
    "    fi2, g_jk2 = collision_BGK_2nd_carleman(fi2, A_ij2, g_jk2, B_ijk2)\n",
    "    fi2, g_jk2 = streaming(fi2, g_jk2)\n",
    "    \n",
    "    print(step)\n",
    "    step += 1\n",
    "    \n",
    "    \n",
    "fi3s, u3s = [], []\n",
    "A_ij3, B_ijk3 = get_matrix(omega3)\n",
    "for i in range(Nt):\n",
    "    fi3s.append(fi3)\n",
    "    _, ux3, uy3 = get_macro_quantities(fi3)\n",
    "    ui = jnp.sqrt(ux3**2 + uy3**2)\n",
    "    u3 = ui[16, 16] / u0[16, 16]\n",
    "    u3s.append(u3)\n",
    "    \n",
    "    fi3, g_jk3 = collision_BGK_2nd_carleman(fi3, A_ij3, g_jk3, B_ijk3)\n",
    "    fi3, g_jk3 = streaming(fi3, g_jk3)\n",
    "    \n",
    "    print(step)\n",
    "    step += 1"
   ]
  },
  {
   "cell_type": "code",
   "execution_count": null,
   "metadata": {},
   "outputs": [],
   "source": [
    "plt.figure(figsize=(6, 4))\n",
    "plt.plot(t, u1s, label=\"$\\\\omega = 1.0$\", color=\"green\")\n",
    "plt.plot(t, u2s, label=\"$\\\\omega = 1.5$\", color=\"red\")\n",
    "plt.plot(t, u3s, label=\"$\\\\omega = 1.9$\", color=\"blue\")\n",
    "plt.xlabel(\"t\")\n",
    "plt.yscale(\"log\")\n",
    "plt.ylabel(\"$|u|/|u_0|$\")\n",
    "plt.grid(True)\n",
    "plt.legend()\n",
    "plt.savefig(\"u_evolution_CLLBM.pdf\", format='pdf')  # Vector export\n",
    "plt.show()"
   ]
  },
  {
   "cell_type": "code",
   "execution_count": null,
   "metadata": {},
   "outputs": [],
   "source": [
    "fi_all = jnp.stack((fi1s, fi2s, fi3s), axis=0)\n",
    "jnp.save(\"fi_2nd carleman_xy.npy\", fi_all)"
   ]
  }
 ],
 "metadata": {
  "kernelspec": {
   "display_name": "Python 3",
   "language": "python",
   "name": "python3"
  },
  "language_info": {
   "codemirror_mode": {
    "name": "ipython",
    "version": 3
   },
   "file_extension": ".py",
   "mimetype": "text/x-python",
   "name": "python",
   "nbconvert_exporter": "python",
   "pygments_lexer": "ipython3",
   "version": "3.13.0"
  }
 },
 "nbformat": 4,
 "nbformat_minor": 2
}
