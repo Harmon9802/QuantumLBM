{
 "cells": [
  {
   "cell_type": "code",
   "execution_count": null,
   "metadata": {},
   "outputs": [],
   "source": [
    "import jax\n",
    "import jax.numpy as jnp # transfer the backend from numpy to jax\n",
    "import matplotlib.pyplot as plt\n",
    "from matplotlib.animation import FuncAnimation"
   ]
  },
  {
   "cell_type": "code",
   "execution_count": null,
   "metadata": {},
   "outputs": [],
   "source": [
    "devices = jax.devices()\n",
    "print(devices)"
   ]
  },
  {
   "cell_type": "code",
   "execution_count": null,
   "metadata": {},
   "outputs": [],
   "source": [
    "# LBM D2Q9 lattice scheme configuration\n",
    "##############\n",
    "#  6   2   5\n",
    "#   \\  |  /\n",
    "# 3 —— 0 —— 1\n",
    "#   /  |  \\\n",
    "#  7   4   8\n",
    "##############\n",
    "\n",
    "Nq = 9  # Number of lattice directions\n",
    "Nx = 32  # Number of grid points in x-direction\n",
    "Ny = 32  # Number of grid points in y-direction\n",
    "Nt = 300  # Number of timesteps\n",
    "\n",
    "# Lattice vector definition\n",
    "ei = jnp.array([0, 1, 2, 3, 4, 5, 6, 7, 8])\n",
    "ci = jnp.array([[0, 1, 0, -1, 0, 1, -1, -1, 1], \n",
    "               [0, 0, 1, 0, -1, 1, 1, -1, -1]])\n",
    "\n",
    "# Lattice weights definition\n",
    "omega1, omega2, omega3 = 1.0, 1.5, 1.9\n",
    "weights = jnp.array([4/9, 1/9, 1/9, 1/9, 1/9, 1/36, 1/36, 1/36, 1/36])"
   ]
  },
  {
   "cell_type": "code",
   "execution_count": null,
   "metadata": {},
   "outputs": [],
   "source": [
    "# Meshgrid definition in 2D XY domain\n",
    "t = jnp.arange(Nt)\n",
    "xm = jnp.arange(Nx)\n",
    "ym = jnp.arange(Ny)\n",
    "X, Y = jnp.meshgrid(xm, ym, indexing='ij')"
   ]
  },
  {
   "cell_type": "code",
   "execution_count": null,
   "metadata": {},
   "outputs": [],
   "source": [
    "# fi field initialization\n",
    "A_x = 0.3\n",
    "k_x = 1\n",
    "\n",
    "fi = jnp.zeros((Nx, Ny, Nq))\n",
    "for i, wi in zip(ei, weights):\n",
    "    fi = fi.at[X, Y, i].set(wi * (1 + A_x * jnp.cos(2 * jnp.pi * k_x * Y / Ny) * ci[0][i]))\n",
    "fi1, fi2, fi3 = fi, fi, fi\n",
    "\n",
    "g_jk = jnp.tensordot(fi, fi, axes=0)\n",
    "g_jk1, g_jk2, g_jk3 = g_jk, g_jk, g_jk"
   ]
  },
  {
   "cell_type": "code",
   "execution_count": null,
   "metadata": {},
   "outputs": [],
   "source": [
    "def streaming(fi, g_jk):\n",
    "    for i in ei:\n",
    "        # Propagate fi value in each corresponding direction using jnp.roll\n",
    "        fi = fi.at[:, :, i].set(jnp.roll(fi[:, :, i], ci[0][i], axis=0)) # roll along x\n",
    "        fi = fi.at[:, :, i].set(jnp.roll(fi[:, :, i], ci[1][i], axis=1)) # roll along y\n",
    "\n",
    "    for j in ei:\n",
    "        g_jk = g_jk.at[:, :, j, :, :, :].set(jnp.roll(g_jk[:, :, j, :, :, :], ci[0][j], axis=0))\n",
    "        g_jk = g_jk.at[:, :, j, :, :, :].set(jnp.roll(g_jk[:, :, j, :, :, :], ci[1][j], axis=1))\n",
    "\n",
    "    for k in ei:\n",
    "        g_jk = g_jk.at[:, :, :, :, :, k].set(jnp.roll(g_jk[:, :, :, :, :, k], ci[0][k], axis=3))\n",
    "        g_jk = g_jk.at[:, :, :, :, :, k].set(jnp.roll(g_jk[:, :, :, :, :, k], ci[1][k], axis=4))\n",
    "\n",
    "    return fi, g_jk"
   ]
  },
  {
   "cell_type": "code",
   "execution_count": null,
   "metadata": {},
   "outputs": [],
   "source": [
    "def get_matrix(omega):\n",
    "    # Calculate matrix A\n",
    "    ci_cj = jnp.tensordot(ci[0], ci[0], axes=0) + jnp.tensordot(ci[1], ci[1], axes=0) # ci is equivalent to cj\n",
    "    L_ij = jnp.transpose(weights * (1 + 3 * ci_cj))\n",
    "    A_ij = (1 - omega) * jnp.eye(Nq) + omega * L_ij\n",
    "\n",
    "    # Calculate matrix B\n",
    "    Q_ijk = jnp.zeros((Nq, Nq, Nq))\n",
    "    for i in range(Nq):\n",
    "        for j in range(Nq):\n",
    "            for k in range(Nq):\n",
    "                ci_cj = ci[0][i] * ci[0][j] + ci[1][i] * ci[1][j]\n",
    "                ci_ck = ci[0][i] * ci[0][k] + ci[1][i] * ci[1][k]\n",
    "                cj_ck = ci[0][j] * ci[0][k] + ci[1][j] * ci[1][k]\n",
    "                Q_ijk = Q_ijk.at[i, j, k].set(9 * weights[i] * (ci_cj * ci_ck - cj_ck / 3))\n",
    "    B_ijk = omega * Q_ijk\n",
    "    \n",
    "    return A_ij, B_ijk"
   ]
  },
  {
   "cell_type": "code",
   "execution_count": null,
   "metadata": {},
   "outputs": [],
   "source": [
    "def collision_BGK_2nd_carleman(fi_pre, A_ij, g_jk, B_ijk):\n",
    "    f_j = jnp.squeeze(fi_pre)\n",
    "    A_i = jnp.einsum('ij,NMj->NMi', A_ij, f_j) # N stands for x direction and M for y\n",
    "    \n",
    "    g_jk_dia = g_jk[X, Y, :, X, Y, :]\n",
    "    \n",
    "    B_i = jnp.einsum('ijk,NMjk->NMi', B_ijk, g_jk_dia)\n",
    "    fi_collisioned = A_i + B_i\n",
    "    \n",
    "    AA = jnp.tensordot(A_ij, A_ij, axes=0)\n",
    "    g_jk_collisioned = jnp.einsum('ikjl,NMkXYl->NMiXYj', AA, g_jk)\n",
    "    \n",
    "    return fi_collisioned, g_jk_collisioned"
   ]
  },
  {
   "cell_type": "code",
   "execution_count": null,
   "metadata": {},
   "outputs": [],
   "source": [
    "def get_macro_quantities(fi):\n",
    "    rho = jnp.sum(fi, axis=2)  # Density\n",
    "    ux = jnp.sum(fi * ci[0], 2) / rho\n",
    "    uy = jnp.sum(fi * ci[1], 2) / rho\n",
    "    \n",
    "    return rho, ux, uy"
   ]
  },
  {
   "cell_type": "code",
   "execution_count": null,
   "metadata": {},
   "outputs": [],
   "source": [
    "_, ux, uy = get_macro_quantities(fi)\n",
    "\n",
    "plt.figure(figsize=(3, 2))\n",
    "contour = plt.contour(X, Y, ux, levels=500, cmap='viridis', vmin=-0.1, vmax=0.1)\n",
    "plt.colorbar(contour)\n",
    "plt.title(\"ux\")\n",
    "plt.xlabel(\"x\")\n",
    "plt.ylabel(\"y\")\n",
    "plt.grid(alpha=0.3)\n",
    "plt.show()"
   ]
  },
  {
   "cell_type": "code",
   "execution_count": null,
   "metadata": {},
   "outputs": [],
   "source": [
    "fi1t = []\n",
    "step = 0\n",
    "u1 = []\n",
    "ux1, uy1, um1 = [], [], []\n",
    "A_ij1, B_ijk1 = get_matrix(omega1)\n",
    "for it in range(Nt):\n",
    "    fi1t.append(fi1)\n",
    "    _, uxit, uyit = get_macro_quantities(fi1)\n",
    "    fi1, g_jk1 = collision_BGK_2nd_carleman(fi1, A_ij1, g_jk1, B_ijk1)\n",
    "    fi1, g_jk1 = streaming(fi1, g_jk1)\n",
    "    \n",
    "    ue = jnp.log2(uxit[16, 16] / ux[16, 16])\n",
    "    umit = jnp.linalg.norm(jnp.stack([uxit, uyit]), axis=0)\n",
    "    u1.append(ue)\n",
    "    ux1.append(uxit)\n",
    "    uy1.append(uyit)\n",
    "    um1.append(umit)\n",
    "    print(step)\n",
    "    step += 1\n",
    "    \n",
    "    \n",
    "fi2t = []\n",
    "u2 = []\n",
    "A_ij2, B_ijk2 = get_matrix(omega2)\n",
    "for it in range(Nt):\n",
    "    fi2t.append(fi2)\n",
    "    _, uxit, uyit = get_macro_quantities(fi2)\n",
    "    fi2, g_jk2 = collision_BGK_2nd_carleman(fi2, A_ij2, g_jk2, B_ijk2)\n",
    "    fi2, g_jk2 = streaming(fi2, g_jk2)\n",
    "    \n",
    "    ue = jnp.log2(uxit[16, 16] / ux[16, 16])\n",
    "    u2.append(ue)\n",
    "    print(step)\n",
    "    step += 1\n",
    "    \n",
    "    \n",
    "fi3t = []\n",
    "u3 = []\n",
    "A_ij3, B_ijk3 = get_matrix(omega3)\n",
    "for it in range(Nt):\n",
    "    fi3t.append(fi3)\n",
    "    _, uxit, uyit = get_macro_quantities(fi3)\n",
    "    fi3, g_jk3 = collision_BGK_2nd_carleman(fi3, A_ij3, g_jk3, B_ijk3)\n",
    "    fi3, g_jk3 = streaming(fi3, g_jk3)\n",
    "    \n",
    "    ue = jnp.log2(uxit[16, 16] / ux[16, 16])\n",
    "    u3.append(ue)\n",
    "    print(step)\n",
    "    step += 1"
   ]
  },
  {
   "cell_type": "code",
   "execution_count": null,
   "metadata": {},
   "outputs": [],
   "source": [
    "plt.figure(figsize=(6, 4))\n",
    "plt.plot(t, u1, label=\"$w = 1$\", color=\"blue\")\n",
    "plt.plot(t, u2, label=\"$w = 1.5$\", color=\"red\")\n",
    "plt.plot(t, u3, label=\"$w = 1.9$\", color=\"green\")\n",
    "plt.xlabel(\"t\")\n",
    "plt.ylabel(\"$log_2(u/u0)$\")\n",
    "plt.grid(True, which=\"both\", linestyle=\"--\", linewidth=0.5)\n",
    "plt.legend()\n",
    "plt.show()"
   ]
  },
  {
   "cell_type": "code",
   "execution_count": null,
   "metadata": {},
   "outputs": [],
   "source": [
    "# fi1t = jnp.array(fi1t)\n",
    "# fi2t = jnp.array(fi2t)\n",
    "# fi3t = jnp.array(fi3t)\n",
    "# fi_all = jnp.stack((fi1t, fi2t, fi3t), axis=0)\n",
    "# jnp.save(\"fi_2nd carleman\", fi_all)"
   ]
  },
  {
   "cell_type": "code",
   "execution_count": null,
   "metadata": {},
   "outputs": [],
   "source": [
    "# Create animations for both velocity magnitude and curl\n",
    "fig, axes = plt.subplots(3, 1, figsize=(6, 12))\n",
    "ax1, ax2, ax3 = axes\n",
    "frames = Nt\n",
    "\n",
    "def init():\n",
    "    # For ux\n",
    "    contour1 = ax1.contourf(X, Y, ux1[0], levels=500, cmap='viridis', vmin=-0.1, vmax=0.1)\n",
    "    plt.colorbar(contour1, ax=ax1)\n",
    "\n",
    "    # For uy\n",
    "    contour2 = ax2.contourf(X, Y, uy1[0], levels=500, cmap='viridis', vmin=-0.1, vmax=0.1)\n",
    "    plt.colorbar(contour2, ax=ax2)\n",
    "    \n",
    "    # For u magnitude\n",
    "    contour3 = ax3.contourf(X, Y, um1[0], levels=500, cmap='viridis', vmin=-0.1, vmax=0.1)\n",
    "    plt.colorbar(contour3, ax=ax3)\n",
    "\n",
    "def update(frame):\n",
    "    # For velocity magnitude\n",
    "    ax1.clear()\n",
    "    ax1.contourf(X, Y, ux1[frame], levels=500, cmap='viridis', vmin=-0.1, vmax=0.1)\n",
    "    ax1.set_title(f\"Ux (Time step {frame + 1}/{frames})\")\n",
    "\n",
    "    # For vorticities\n",
    "    ax2.clear()\n",
    "    ax2.contourf(X, Y, uy1[frame], levels=500, cmap='viridis', vmin=-0.1, vmax=0.1)\n",
    "    ax2.set_title(f\"Uy (Time step {frame + 1}/{frames})\")\n",
    "\n",
    "    # For vorticities\n",
    "    ax3.clear()\n",
    "    ax3.contourf(X, Y, um1[frame], levels=500, cmap='viridis', vmin=-0.1, vmax=0.1)\n",
    "    ax3.set_title(f\"U magnitude (Time step {frame + 1}/{frames})\")\n",
    "    \n",
    "# Create the animation\n",
    "anim = FuncAnimation(fig, update, frames, init_func=init, interval=50)\n",
    "anim.save(\"velocity_2nd CL.gif\", writer=\"pillow\", fps=50)\n",
    "plt.show()"
   ]
  }
 ],
 "metadata": {
  "kernelspec": {
   "display_name": "Python 3",
   "language": "python",
   "name": "python3"
  },
  "language_info": {
   "codemirror_mode": {
    "name": "ipython",
    "version": 3
   },
   "file_extension": ".py",
   "mimetype": "text/x-python",
   "name": "python",
   "nbconvert_exporter": "python",
   "pygments_lexer": "ipython3",
   "version": "3.13.0"
  }
 },
 "nbformat": 4,
 "nbformat_minor": 2
}
